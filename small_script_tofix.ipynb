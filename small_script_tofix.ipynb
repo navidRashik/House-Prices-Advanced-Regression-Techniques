{
 "cells": [
  {
   "cell_type": "markdown",
   "metadata": {},
   "source": [
    "smallcode to fix dict"
   ]
  },
  {
   "cell_type": "code",
   "execution_count": 106,
   "metadata": {},
   "outputs": [],
   "source": [
    "x = ['Random Forest Regressor',\n",
    "     'DecisionTree','Xgboost','Lasso',\n",
    "     'ANN_base_lr0.1_beta0.1-0.0-0.0-None_hidden16-8-4-None',\n",
    "     'ANN_lr0.1_beta0.1-0.05-0.0-0.0_hidden76-48-32-16',\n",
    "     'ANN_lr0.05_beta0.005-0.1-0.05-0.0_hidden8-32-16-8',\n",
    "     'ANN_lr0.05_beta0.1-0.0-0.0-0.0_hidden16-8-4-2',\n",
    "     'ANN_lr0.1_beta0.1-None-None-None_hidden16-None-None-None',\n",
    "     'ANN_lr0.1_beta0-None-None-None_hidden4-None-None-None',\n",
    "     'ANN_lr0.1_beta0-None-None-None_hidden2-None-None-None']"
   ]
  },
  {
   "cell_type": "code",
   "execution_count": 107,
   "metadata": {},
   "outputs": [],
   "source": [
    "d = dict()\n",
    "for k in x:\n",
    "    d[k] = prediction_dict[k]\n",
    "prediction_dict = d"
   ]
  },
  {
   "cell_type": "code",
   "execution_count": 152,
   "metadata": {},
   "outputs": [
    {
     "name": "stdout",
     "output_type": "stream",
     "text": [
      "Random Forest Regressor 292\n",
      "DecisionTree 292\n",
      "Xgboost 292\n",
      "Lasso 292\n",
      "ANN_base_lr0.1_beta0.1-0.0-0.0-None_hidden16-8-4-None 292\n",
      "ANN_lr0.1_beta0-None-None-None_hidden4-None-None-None 292\n"
     ]
    }
   ],
   "source": [
    "for i in prediction_dict:\n",
    "    print(i,len(prediction_dict[i]))"
   ]
  },
  {
   "cell_type": "code",
   "execution_count": null,
   "metadata": {},
   "outputs": [],
   "source": []
  }
 ],
 "metadata": {
  "kernelspec": {
   "display_name": "Python 3",
   "language": "python",
   "name": "python3"
  },
  "language_info": {
   "codemirror_mode": {
    "name": "ipython",
    "version": 3
   },
   "file_extension": ".py",
   "mimetype": "text/x-python",
   "name": "python",
   "nbconvert_exporter": "python",
   "pygments_lexer": "ipython3",
   "version": "3.6.8"
  }
 },
 "nbformat": 4,
 "nbformat_minor": 2
}
