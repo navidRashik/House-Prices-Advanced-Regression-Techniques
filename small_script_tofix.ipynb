{
 "cells": [
  {
   "cell_type": "markdown",
   "metadata": {},
   "source": [
    "smallcode to fix dict"
   ]
  },
  {
   "cell_type": "code",
   "execution_count": 210,
   "metadata": {},
   "outputs": [],
   "source": [
    "x = ['Random Forest Regressor',\n",
    "     'DecisionTree','Xgboost','Lasso',\n",
    "     'ANN_base_lr0.1_beta0.1-0.0-0.0-None_hidden16-8-4-None',\n",
    "     'ANN_lr0.1_beta0.1-0.05-0.0-0.0_hidden76-48-32-16',\n",
    "     'ANN_lr0.05_beta0.005-0.1-0.05-0.0_hidden8-32-16-8',\n",
    "     'ANN_lr0.05_beta0.1-0.0-0.0-0.0_hidden16-8-4-2',\n",
    "     'ANN_lr0.1_beta0.1-None-None-None_hidden16-None-None-None',\n",
    "     'ANN_lr0.1_beta0-None-None-None_hidden4-None-None-None',\n",
    "     'ANN_lr0.1_beta0-None-None-None_hidden2-None-None-None']"
   ]
  },
  {
   "cell_type": "code",
   "execution_count": 211,
   "metadata": {},
   "outputs": [],
   "source": [
    "d = dict()\n",
    "for k in x:\n",
    "    d[k] = prediction_dict[k]\n",
    "prediction_dict = d"
   ]
  },
  {
   "cell_type": "code",
   "execution_count": 212,
   "metadata": {},
   "outputs": [
    {
     "name": "stdout",
     "output_type": "stream",
     "text": [
      "Random Forest Regressor 292\n",
      "DecisionTree 292\n",
      "Xgboost 292\n",
      "Lasso 292\n",
      "ANN_base_lr0.1_beta0.1-0.0-0.0-None_hidden16-8-4-None 292\n",
      "ANN_lr0.1_beta0.1-0.05-0.0-0.0_hidden76-48-32-16 292\n",
      "ANN_lr0.05_beta0.005-0.1-0.05-0.0_hidden8-32-16-8 292\n",
      "ANN_lr0.05_beta0.1-0.0-0.0-0.0_hidden16-8-4-2 292\n",
      "ANN_lr0.1_beta0.1-None-None-None_hidden16-None-None-None 292\n",
      "ANN_lr0.1_beta0-None-None-None_hidden4-None-None-None 292\n",
      "ANN_lr0.1_beta0-None-None-None_hidden2-None-None-None 292\n"
     ]
    }
   ],
   "source": [
    "for i in prediction_dict:\n",
    "    print(i,len(prediction_dict[i]))"
   ]
  },
  {
   "cell_type": "code",
   "execution_count": 181,
   "metadata": {},
   "outputs": [],
   "source": [
    "import matplotlib.pyplot as plt"
   ]
  },
  {
   "cell_type": "code",
   "execution_count": 190,
   "metadata": {},
   "outputs": [
    {
     "data": {
      "text/plain": [
       "<matplotlib.legend.Legend at 0x7f9964b8be80>"
      ]
     },
     "execution_count": 190,
     "metadata": {},
     "output_type": "execute_result"
    },
    {
     "data": {
      "image/png": "[encoded data removed]",
      "text/plain": [
       "<Figure size 432x288 with 1 Axes>"
      ]
     },
     "metadata": {},
     "output_type": "display_data"
    }
   ],
   "source": [
    "plt.plot([1,2,3], [1,4,9], 'rs',  label='line 2',visible = True)\n",
    "\n",
    "plt.plot([1,2,3], [1,4,9], 'b--',  label='line 1',visible = True)\n",
    "plt.legend()"
   ]
  },
  {
   "cell_type": "code",
   "execution_count": null,
   "metadata": {},
   "outputs": [],
   "source": []
  }
 ],
 "metadata": {
  "kernelspec": {
   "display_name": "Python 3",
   "language": "python",
   "name": "python3"
  },
  "language_info": {
   "codemirror_mode": {
    "name": "ipython",
    "version": 3
   },
   "file_extension": ".py",
   "mimetype": "text/x-python",
   "name": "python",
   "nbconvert_exporter": "python",
   "pygments_lexer": "ipython3",
   "version": "3.6.8"
  },
  "toc-autonumbering": false
 },
 "nbformat": 4,
 "nbformat_minor": 2
}
