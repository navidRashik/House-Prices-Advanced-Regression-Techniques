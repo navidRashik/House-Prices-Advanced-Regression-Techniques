{
 "cells": [
  {
   "cell_type": "markdown",
   "metadata": {
    "colab_type": "text",
    "id": "Uz9rOiRgyloo",
    "slideshow": {
     "slide_type": "notes"
    }
   },
   "source": [
    "# important links\n",
    "\n",
    "\n",
    "## list:\n",
    "https://www.kaggle.com/c/house-prices-advanced-regression-techniques/kernels?sortBy=voteCount&group=everyone&pageSize=20&language=Python&competitionId=5407\n",
    "\n",
    "\n",
    "## xgboost:\n",
    "https://www.kaggle.com/dansbecker/xgboost\n",
    "\n",
    "https://medium.com/@gabrieltseng/gradient-boosting-and-xgboost-c306c1bcfaf5\n",
    "\n",
    "\n",
    "\n",
    "## regration + graph :\n",
    "https://www.kaggle.com/janiobachmann/predicting-house-prices-regression-techniques\n",
    "\n",
    "\n",
    "## Selecting and Filtering Data\n",
    "https://www.kaggle.com/dansbecker/selecting-and-filtering-in-pandas\n",
    "\n",
    "## Handling Missing Values\n",
    "https://www.kaggle.com/dansbecker/handling-missing-values\n",
    "\n",
    "\n",
    "\n",
    "## why use conditional probability coding\n",
    "https://medium.com/airbnb-engineering/designing-machine-learning-models-7d0048249e69\n",
    "\n",
    "## one hot encoding\n",
    "https://hackernoon.com/what-is-one-hot-encoding-why-and-when-do-you-have-to-use-it-e3c6186d008f\n",
    "\n",
    "https://medium.com/@rajatgupta310198/getting-started-with-neural-network-for-regression-and-tensorflow-58ad3bd75223\n",
    "\n",
    "## class example\n",
    "https://colab.research.google.com/drive/1MExQ52bvHSPaUrGe8RvHZifvE6K6a0qh?fbclid=IwAR2EUWi4q6_q0mFbXQwGh4GNgB2Ex_WpP3K0L12182PdzszWSsEfzHf0REo#forceEdit=true&offline=true&sandboxMode=true&scrollTo=-Rh3-Vt9Nev9"
   ]
  },
  {
   "cell_type": "markdown",
   "metadata": {
    "colab_type": "text",
    "id": "iVir-2EOylop",
    "slideshow": {
     "slide_type": "slide"
    }
   },
   "source": [
    "# Imports:"
   ]
  },
  {
   "cell_type": "code",
   "execution_count": 41,
   "metadata": {
    "colab": {
     "base_uri": "https://localhost:8080/",
     "height": 34
    },
    "colab_type": "code",
    "id": "jCr9-49m4bVI",
    "outputId": "0298162a-b5cb-4470-a0e5-20aea305c9f9"
   },
   "outputs": [
    {
     "name": "stdout",
     "output_type": "stream",
     "text": [
      "Found GPU at: /device:GPU:0\n"
     ]
    }
   ],
   "source": [
    "import tensorflow as tf\n",
    "device_name = tf.test.gpu_device_name()\n",
    "if device_name != '/device:GPU:0':\n",
    "  raise SystemError('GPU device not found')\n",
    "print('Found GPU at: {}'.format(device_name))"
   ]
  },
  {
   "cell_type": "code",
   "execution_count": 42,
   "metadata": {
    "ExecuteTime": {
     "end_time": "2019-02-02T01:52:02.324567Z",
     "start_time": "2019-02-02T01:51:59.840586Z"
    },
    "colab": {},
    "colab_type": "code",
    "id": "yTFm9gllylor"
   },
   "outputs": [],
   "source": [
    "import tensorflow as tf\n",
    "import numpy as np\n",
    "import pandas as pd\n",
    "from sklearn.ensemble import RandomForestRegressor\n",
    "from sklearn.impute import SimpleImputer\n",
    "from sklearn.model_selection import train_test_split\n",
    "from sklearn.metrics import mean_absolute_error\n",
    "from sklearn.metrics import  r2_score\n",
    "from sklearn.linear_model import LinearRegression\n",
    "from sklearn.preprocessing import OneHotEncoder\n",
    "from sklearn.preprocessing import StandardScaler\n",
    "from IPython.display import Image\n",
    "from sklearn.preprocessing import normalize,MinMaxScaler\n",
    "# %matplotlib widget"
   ]
  },
  {
   "cell_type": "markdown",
   "metadata": {
    "ExecuteTime": {
     "end_time": "2019-01-31T18:52:22.007986Z",
     "start_time": "2019-01-31T18:52:21.963049Z"
    },
    "colab_type": "text",
    "id": "mXdUBFVMylov",
    "toc-hr-collapsed": false
   },
   "source": [
    "# Data Pre-processing"
   ]
  },
  {
   "cell_type": "markdown",
   "metadata": {
    "colab_type": "text",
    "id": "mXuolX8wylov"
   },
   "source": [
    "### Load Data"
   ]
  },
  {
   "cell_type": "code",
   "execution_count": 43,
   "metadata": {
    "ExecuteTime": {
     "end_time": "2019-02-02T01:52:08.756695Z",
     "start_time": "2019-02-02T01:52:08.657766Z"
    },
    "colab": {
     "base_uri": "https://localhost:8080/",
     "height": 102
    },
    "colab_type": "code",
    "id": "sOk_cTawylow",
    "outputId": "651fb603-851f-4934-8b9b-8ef65b24d4e8",
    "scrolled": true
   },
   "outputs": [
    {
     "name": "stdout",
     "output_type": "stream",
     "text": [
      "data types count\n"
     ]
    },
    {
     "data": {
      "text/plain": [
       "int64      35\n",
       "float64     3\n",
       "object     43\n",
       "dtype: int64"
      ]
     },
     "execution_count": 43,
     "metadata": {},
     "output_type": "execute_result"
    }
   ],
   "source": [
    "train = pd.read_csv('train.csv')#.select_dtypes(exclude=['object'])\n",
    "test = pd.read_csv('test.csv')#.select_dtypes(exclude=['object'])\n",
    "\n",
    "#look into datatypes of the file\n",
    "print(\"data types count\")\n",
    "train.dtypes.groupby(train.dtypes).count()\n"
   ]
  },
  {
   "cell_type": "code",
   "execution_count": 44,
   "metadata": {
    "ExecuteTime": {
     "end_time": "2019-02-02T01:52:14.946706Z",
     "start_time": "2019-02-02T01:52:14.906500Z"
    },
    "colab": {},
    "colab_type": "code",
    "id": "ByCaSgsgylo1"
   },
   "outputs": [],
   "source": [
    "#selecting target\n",
    "train_target = train.SalePrice\n",
    "#the last column is the SalePrice coloumn so removing it from the list\n",
    "predictor_cols = train.drop(train.columns[-1],axis=1)\n",
    "# droping id\n",
    "predictor_cols = predictor_cols.drop('Id',axis=1)\n",
    "predictor_cols_test = test.drop('Id',axis=1)\n"
   ]
  },
  {
   "cell_type": "markdown",
   "metadata": {
    "colab_type": "text",
    "id": "p3WTY1trylo3"
   },
   "source": [
    "### Looking into data"
   ]
  },
  {
   "cell_type": "raw",
   "metadata": {
    "ExecuteTime": {
     "end_time": "2019-02-01T13:19:41.934948Z",
     "start_time": "2019-02-01T13:19:41.833768Z"
    },
    "colab": {
     "base_uri": "https://localhost:8080/",
     "height": 270
    },
    "colab_type": "code",
    "id": "OzHodPT2ylo4",
    "outputId": "831e5887-921a-4a23-b82f-d9e5de1a9aa6"
   },
   "source": [
    "print('show sample')\n",
    "train.head()"
   ]
  },
  {
   "cell_type": "code",
   "execution_count": 45,
   "metadata": {
    "ExecuteTime": {
     "end_time": "2019-02-01T13:19:42.180510Z",
     "start_time": "2019-02-01T13:19:42.033447Z"
    },
    "colab": {
     "base_uri": "https://localhost:8080/",
     "height": 363
    },
    "colab_type": "code",
    "id": "mDCzIBYXylo8",
    "outputId": "e52e0263-9687-45b2-f713-47cf44860349",
    "scrolled": true
   },
   "outputs": [
    {
     "name": "stdout",
     "output_type": "stream",
     "text": [
      "description of data\n"
     ]
    },
    {
     "data": {
      "text/html": [
       "<div>\n",
       "<style scoped>\n",
       "    .dataframe tbody tr th:only-of-type {\n",
       "        vertical-align: middle;\n",
       "    }\n",
       "\n",
       "    .dataframe tbody tr th {\n",
       "        vertical-align: top;\n",
       "    }\n",
       "\n",
       "    .dataframe thead th {\n",
       "        text-align: right;\n",
       "    }\n",
       "</style>\n",
       "<table border=\"1\" class=\"dataframe\">\n",
       "  <thead>\n",
       "    <tr style=\"text-align: right;\">\n",
       "      <th></th>\n",
       "      <th>Id</th>\n",
       "      <th>MSSubClass</th>\n",
       "      <th>LotFrontage</th>\n",
       "      <th>LotArea</th>\n",
       "      <th>OverallQual</th>\n",
       "      <th>OverallCond</th>\n",
       "      <th>YearBuilt</th>\n",
       "      <th>YearRemodAdd</th>\n",
       "      <th>MasVnrArea</th>\n",
       "      <th>BsmtFinSF1</th>\n",
       "      <th>...</th>\n",
       "      <th>WoodDeckSF</th>\n",
       "      <th>OpenPorchSF</th>\n",
       "      <th>EnclosedPorch</th>\n",
       "      <th>3SsnPorch</th>\n",
       "      <th>ScreenPorch</th>\n",
       "      <th>PoolArea</th>\n",
       "      <th>MiscVal</th>\n",
       "      <th>MoSold</th>\n",
       "      <th>YrSold</th>\n",
       "      <th>SalePrice</th>\n",
       "    </tr>\n",
       "  </thead>\n",
       "  <tbody>\n",
       "    <tr>\n",
       "      <th>count</th>\n",
       "      <td>1460.000000</td>\n",
       "      <td>1460.000000</td>\n",
       "      <td>1201.000000</td>\n",
       "      <td>1460.000000</td>\n",
       "      <td>1460.000000</td>\n",
       "      <td>1460.000000</td>\n",
       "      <td>1460.000000</td>\n",
       "      <td>1460.000000</td>\n",
       "      <td>1452.000000</td>\n",
       "      <td>1460.000000</td>\n",
       "      <td>...</td>\n",
       "      <td>1460.000000</td>\n",
       "      <td>1460.000000</td>\n",
       "      <td>1460.000000</td>\n",
       "      <td>1460.000000</td>\n",
       "      <td>1460.000000</td>\n",
       "      <td>1460.000000</td>\n",
       "      <td>1460.000000</td>\n",
       "      <td>1460.000000</td>\n",
       "      <td>1460.000000</td>\n",
       "      <td>1460.000000</td>\n",
       "    </tr>\n",
       "    <tr>\n",
       "      <th>mean</th>\n",
       "      <td>730.500000</td>\n",
       "      <td>56.897260</td>\n",
       "      <td>70.049958</td>\n",
       "      <td>10516.828082</td>\n",
       "      <td>6.099315</td>\n",
       "      <td>5.575342</td>\n",
       "      <td>1971.267808</td>\n",
       "      <td>1984.865753</td>\n",
       "      <td>103.685262</td>\n",
       "      <td>443.639726</td>\n",
       "      <td>...</td>\n",
       "      <td>94.244521</td>\n",
       "      <td>46.660274</td>\n",
       "      <td>21.954110</td>\n",
       "      <td>3.409589</td>\n",
       "      <td>15.060959</td>\n",
       "      <td>2.758904</td>\n",
       "      <td>43.489041</td>\n",
       "      <td>6.321918</td>\n",
       "      <td>2007.815753</td>\n",
       "      <td>180921.195890</td>\n",
       "    </tr>\n",
       "    <tr>\n",
       "      <th>std</th>\n",
       "      <td>421.610009</td>\n",
       "      <td>42.300571</td>\n",
       "      <td>24.284752</td>\n",
       "      <td>9981.264932</td>\n",
       "      <td>1.382997</td>\n",
       "      <td>1.112799</td>\n",
       "      <td>30.202904</td>\n",
       "      <td>20.645407</td>\n",
       "      <td>181.066207</td>\n",
       "      <td>456.098091</td>\n",
       "      <td>...</td>\n",
       "      <td>125.338794</td>\n",
       "      <td>66.256028</td>\n",
       "      <td>61.119149</td>\n",
       "      <td>29.317331</td>\n",
       "      <td>55.757415</td>\n",
       "      <td>40.177307</td>\n",
       "      <td>496.123024</td>\n",
       "      <td>2.703626</td>\n",
       "      <td>1.328095</td>\n",
       "      <td>79442.502883</td>\n",
       "    </tr>\n",
       "    <tr>\n",
       "      <th>min</th>\n",
       "      <td>1.000000</td>\n",
       "      <td>20.000000</td>\n",
       "      <td>21.000000</td>\n",
       "      <td>1300.000000</td>\n",
       "      <td>1.000000</td>\n",
       "      <td>1.000000</td>\n",
       "      <td>1872.000000</td>\n",
       "      <td>1950.000000</td>\n",
       "      <td>0.000000</td>\n",
       "      <td>0.000000</td>\n",
       "      <td>...</td>\n",
       "      <td>0.000000</td>\n",
       "      <td>0.000000</td>\n",
       "      <td>0.000000</td>\n",
       "      <td>0.000000</td>\n",
       "      <td>0.000000</td>\n",
       "      <td>0.000000</td>\n",
       "      <td>0.000000</td>\n",
       "      <td>1.000000</td>\n",
       "      <td>2006.000000</td>\n",
       "      <td>34900.000000</td>\n",
       "    </tr>\n",
       "    <tr>\n",
       "      <th>25%</th>\n",
       "      <td>365.750000</td>\n",
       "      <td>20.000000</td>\n",
       "      <td>59.000000</td>\n",
       "      <td>7553.500000</td>\n",
       "      <td>5.000000</td>\n",
       "      <td>5.000000</td>\n",
       "      <td>1954.000000</td>\n",
       "      <td>1967.000000</td>\n",
       "      <td>0.000000</td>\n",
       "      <td>0.000000</td>\n",
       "      <td>...</td>\n",
       "      <td>0.000000</td>\n",
       "      <td>0.000000</td>\n",
       "      <td>0.000000</td>\n",
       "      <td>0.000000</td>\n",
       "      <td>0.000000</td>\n",
       "      <td>0.000000</td>\n",
       "      <td>0.000000</td>\n",
       "      <td>5.000000</td>\n",
       "      <td>2007.000000</td>\n",
       "      <td>129975.000000</td>\n",
       "    </tr>\n",
       "    <tr>\n",
       "      <th>50%</th>\n",
       "      <td>730.500000</td>\n",
       "      <td>50.000000</td>\n",
       "      <td>69.000000</td>\n",
       "      <td>9478.500000</td>\n",
       "      <td>6.000000</td>\n",
       "      <td>5.000000</td>\n",
       "      <td>1973.000000</td>\n",
       "      <td>1994.000000</td>\n",
       "      <td>0.000000</td>\n",
       "      <td>383.500000</td>\n",
       "      <td>...</td>\n",
       "      <td>0.000000</td>\n",
       "      <td>25.000000</td>\n",
       "      <td>0.000000</td>\n",
       "      <td>0.000000</td>\n",
       "      <td>0.000000</td>\n",
       "      <td>0.000000</td>\n",
       "      <td>0.000000</td>\n",
       "      <td>6.000000</td>\n",
       "      <td>2008.000000</td>\n",
       "      <td>163000.000000</td>\n",
       "    </tr>\n",
       "    <tr>\n",
       "      <th>75%</th>\n",
       "      <td>1095.250000</td>\n",
       "      <td>70.000000</td>\n",
       "      <td>80.000000</td>\n",
       "      <td>11601.500000</td>\n",
       "      <td>7.000000</td>\n",
       "      <td>6.000000</td>\n",
       "      <td>2000.000000</td>\n",
       "      <td>2004.000000</td>\n",
       "      <td>166.000000</td>\n",
       "      <td>712.250000</td>\n",
       "      <td>...</td>\n",
       "      <td>168.000000</td>\n",
       "      <td>68.000000</td>\n",
       "      <td>0.000000</td>\n",
       "      <td>0.000000</td>\n",
       "      <td>0.000000</td>\n",
       "      <td>0.000000</td>\n",
       "      <td>0.000000</td>\n",
       "      <td>8.000000</td>\n",
       "      <td>2009.000000</td>\n",
       "      <td>214000.000000</td>\n",
       "    </tr>\n",
       "    <tr>\n",
       "      <th>max</th>\n",
       "      <td>1460.000000</td>\n",
       "      <td>190.000000</td>\n",
       "      <td>313.000000</td>\n",
       "      <td>215245.000000</td>\n",
       "      <td>10.000000</td>\n",
       "      <td>9.000000</td>\n",
       "      <td>2010.000000</td>\n",
       "      <td>2010.000000</td>\n",
       "      <td>1600.000000</td>\n",
       "      <td>5644.000000</td>\n",
       "      <td>...</td>\n",
       "      <td>857.000000</td>\n",
       "      <td>547.000000</td>\n",
       "      <td>552.000000</td>\n",
       "      <td>508.000000</td>\n",
       "      <td>480.000000</td>\n",
       "      <td>738.000000</td>\n",
       "      <td>15500.000000</td>\n",
       "      <td>12.000000</td>\n",
       "      <td>2010.000000</td>\n",
       "      <td>755000.000000</td>\n",
       "    </tr>\n",
       "  </tbody>\n",
       "</table>\n",
       "<p>8 rows × 38 columns</p>\n",
       "</div>"
      ],
      "text/plain": [
       "                Id   MSSubClass  LotFrontage        LotArea  OverallQual  \\\n",
       "count  1460.000000  1460.000000  1201.000000    1460.000000  1460.000000   \n",
       "mean    730.500000    56.897260    70.049958   10516.828082     6.099315   \n",
       "std     421.610009    42.300571    24.284752    9981.264932     1.382997   \n",
       "min       1.000000    20.000000    21.000000    1300.000000     1.000000   \n",
       "25%     365.750000    20.000000    59.000000    7553.500000     5.000000   \n",
       "50%     730.500000    50.000000    69.000000    9478.500000     6.000000   \n",
       "75%    1095.250000    70.000000    80.000000   11601.500000     7.000000   \n",
       "max    1460.000000   190.000000   313.000000  215245.000000    10.000000   \n",
       "\n",
       "       OverallCond    YearBuilt  YearRemodAdd   MasVnrArea   BsmtFinSF1  ...  \\\n",
       "count  1460.000000  1460.000000   1460.000000  1452.000000  1460.000000  ...   \n",
       "mean      5.575342  1971.267808   1984.865753   103.685262   443.639726  ...   \n",
       "std       1.112799    30.202904     20.645407   181.066207   456.098091  ...   \n",
       "min       1.000000  1872.000000   1950.000000     0.000000     0.000000  ...   \n",
       "25%       5.000000  1954.000000   1967.000000     0.000000     0.000000  ...   \n",
       "50%       5.000000  1973.000000   1994.000000     0.000000   383.500000  ...   \n",
       "75%       6.000000  2000.000000   2004.000000   166.000000   712.250000  ...   \n",
       "max       9.000000  2010.000000   2010.000000  1600.000000  5644.000000  ...   \n",
       "\n",
       "        WoodDeckSF  OpenPorchSF  EnclosedPorch    3SsnPorch  ScreenPorch  \\\n",
       "count  1460.000000  1460.000000    1460.000000  1460.000000  1460.000000   \n",
       "mean     94.244521    46.660274      21.954110     3.409589    15.060959   \n",
       "std     125.338794    66.256028      61.119149    29.317331    55.757415   \n",
       "min       0.000000     0.000000       0.000000     0.000000     0.000000   \n",
       "25%       0.000000     0.000000       0.000000     0.000000     0.000000   \n",
       "50%       0.000000    25.000000       0.000000     0.000000     0.000000   \n",
       "75%     168.000000    68.000000       0.000000     0.000000     0.000000   \n",
       "max     857.000000   547.000000     552.000000   508.000000   480.000000   \n",
       "\n",
       "          PoolArea       MiscVal       MoSold       YrSold      SalePrice  \n",
       "count  1460.000000   1460.000000  1460.000000  1460.000000    1460.000000  \n",
       "mean      2.758904     43.489041     6.321918  2007.815753  180921.195890  \n",
       "std      40.177307    496.123024     2.703626     1.328095   79442.502883  \n",
       "min       0.000000      0.000000     1.000000  2006.000000   34900.000000  \n",
       "25%       0.000000      0.000000     5.000000  2007.000000  129975.000000  \n",
       "50%       0.000000      0.000000     6.000000  2008.000000  163000.000000  \n",
       "75%       0.000000      0.000000     8.000000  2009.000000  214000.000000  \n",
       "max     738.000000  15500.000000    12.000000  2010.000000  755000.000000  \n",
       "\n",
       "[8 rows x 38 columns]"
      ]
     },
     "execution_count": 45,
     "metadata": {},
     "output_type": "execute_result"
    }
   ],
   "source": [
    "print('description of data')\n",
    "train.describe()"
   ]
  },
  {
   "cell_type": "markdown",
   "metadata": {
    "colab_type": "text",
    "id": "w5A9Ec9Cylo_"
   },
   "source": [
    "### Removing missing data"
   ]
  },
  {
   "cell_type": "code",
   "execution_count": 46,
   "metadata": {
    "ExecuteTime": {
     "end_time": "2019-02-02T01:54:28.062358Z",
     "start_time": "2019-02-02T01:54:27.284289Z"
    },
    "colab": {
     "base_uri": "https://localhost:8080/",
     "height": 423
    },
    "colab_type": "code",
    "id": "-uo1CGtEylo_",
    "outputId": "14c47746-551c-49e4-9969-b586f5c2ffd8",
    "scrolled": true
   },
   "outputs": [
    {
     "data": {
      "image/png": "[encoded data removed]",
      "text/plain": [
       "<Figure size 432x288 with 1 Axes>"
      ]
     },
     "metadata": {
      "needs_background": "light"
     },
     "output_type": "display_data"
    }
   ],
   "source": [
    "missing_data_col = train.isnull().sum()\n",
    "missing_data_col.plot.bar(title = 'missing data before')\n",
    "total_row = train.index.size\n",
    "missing_data_list = missing_data_col[missing_data_col > total_row*.50].index\n",
    "train = train.drop(missing_data_list,1)\n",
    "# removing form kaggle test data also\n",
    "test = test.drop(missing_data_list,1)"
   ]
  },
  {
   "cell_type": "markdown",
   "metadata": {
    "colab_type": "text",
    "id": "ac3D3genylpQ"
   },
   "source": [
    "### One hot encoding\n",
    "To encode categorical integer features as a one-hot numeric array we are using one hot encoding. This will transform each value of catagories into a features and make those a column value of dataframe. Finally put binary values in the rows of those column."
   ]
  },
  {
   "cell_type": "raw",
   "metadata": {
    "colab_type": "raw",
    "id": "5wY32tkHylpR"
   },
   "source": [
    "# for example:\n",
    "\n",
    "# ╔════════════╦═════════════════╦════════╗ \n",
    "# ║ CompanyName Categoricalvalue ║ Price  ║\n",
    "# ╠════════════╬═════════════════╣════════║ \n",
    "# ║ VW         ╬      1          ║ 20000  ║\n",
    "# ║ Acura      ╬      2          ║ 10011  ║\n",
    "# ║ Honda      ╬      3          ║ 50000  ║\n",
    "# ║ Honda      ╬      3          ║ 10000  ║\n",
    "# ╚════════════╩═════════════════╩════════╝\n",
    "\n",
    "# converting it to one Hot encoding:\n",
    "\n",
    "# ╔════╦══════╦══════╦════════╦\n",
    "# ║ VW ║ Acura║ Honda║ Price  ║\n",
    "# ╠════╬══════╬══════╬════════╬\n",
    "# ║ 1  ╬ 0    ╬ 0    ║ 20000  ║\n",
    "# ║ 0  ╬ 1    ╬ 0    ║ 10011  ║\n",
    "# ║ 0  ╬ 0    ╬ 1    ║ 50000  ║\n",
    "# ║ 0  ╬ 0    ╬ 1    ║ 10000  ║\n",
    "# ╚════╩══════╩══════╩════════╝\n",
    "\n",
    "# refrence: https://hackernoon.com/what-is-one-hot-encoding-why-and-when-do-you-have-to-use-it-e3c6186d008f"
   ]
  },
  {
   "cell_type": "markdown",
   "metadata": {
    "colab_type": "text",
    "id": "2KaCbC5mylpR"
   },
   "source": [
    "In this section at first we merge train and test data (variable name predictor_cols and predictor_cols_test). We did it because there is some fetures in train data which is missing in test data again same thing can happen for test data too. "
   ]
  },
  {
   "cell_type": "code",
   "execution_count": 47,
   "metadata": {
    "colab": {},
    "colab_type": "code",
    "id": "jvyyNDfV3A5u"
   },
   "outputs": [],
   "source": [
    "def OneHotEncoding(all_data):\n",
    "    enc = OneHotEncoder()\n",
    "    \n",
    "    all_data = enc.fit_transform(all_data)\n",
    "    # all_data is no in scipy.sparse.csr.csr_matrix format converting it to 2d-numpy array\n",
    "    all_data = all_data.toarray()\n",
    "    all_data = pd.DataFrame(all_data, columns=enc.get_feature_names())\n",
    "    return all_data\n",
    "\n"
   ]
  },
  {
   "cell_type": "markdown",
   "metadata": {
    "colab_type": "text",
    "id": "BqFf98VCylpD"
   },
   "source": [
    "### Imputing missing data\n",
    "    We are using simpleimputer and it uses mean by default. It will just replace those empty places with mean values.\n",
    "    In this section we are impute missing coloumn where the missing data amount is less than 50%. "
   ]
  },
  {
   "cell_type": "code",
   "execution_count": 48,
   "metadata": {
    "ExecuteTime": {
     "end_time": "2019-02-02T01:52:14.946706Z",
     "start_time": "2019-02-02T01:52:14.906500Z"
    },
    "colab": {},
    "colab_type": "code",
    "id": "P2E0JnP4ylpE"
   },
   "outputs": [],
   "source": [
    "def imputation(all_data):\n",
    "    imputer_numb_col = SimpleImputer(strategy=\"most_frequent\" , missing_values=np.nan )\n",
    "    imputer_obj_col = SimpleImputer(strategy=\"most_frequent\" , missing_values=np.nan )\n",
    "    #excluding all object dtype column\n",
    "    num_col = all_data.select_dtypes(exclude= ['object'])\n",
    "    #excluding all number dtype column\n",
    "    obj_col = all_data.select_dtypes(include=['object'])\n",
    "    \n",
    "    \"\"\" \n",
    "    fit_transform turns a df to numpy array so keeping the column name would be helpful for returning to df format\n",
    "    \"\"\"\n",
    "    \n",
    "    #imputing number part of df\n",
    "    column_names = num_col.columns.values\n",
    "    num_col = imputer_numb_col.fit_transform(num_col)\n",
    "    # putting imputed values in the place of missing values of original detaframe \n",
    "    num_col = pd.DataFrame(num_col, columns = column_names)\n",
    "    \n",
    "    # imputing object part of df\n",
    "    column_names = obj_col.columns.values\n",
    "    obj_col = imputer_obj_col.fit_transform(obj_col)   \n",
    "    obj_col = pd.DataFrame(obj_col,columns = column_names)\n",
    "    \n",
    "    \"\"\"performing one hot encoding on obj_col dataframe\"\"\"\n",
    "    obj_col = OneHotEncoding(obj_col)\n",
    "    \n",
    "    \n",
    "    #combinin numb and obje part to all_data\n",
    "    all_data = num_col.combine_first(obj_col)\n",
    "    return all_data\n",
    "\n"
   ]
  },
  {
   "cell_type": "code",
   "execution_count": 49,
   "metadata": {
    "ExecuteTime": {
     "end_time": "2019-02-02T01:52:14.946706Z",
     "start_time": "2019-02-02T01:52:14.906500Z"
    },
    "colab": {},
    "colab_type": "code",
    "id": "Wz6FI0zjylpG"
   },
   "outputs": [],
   "source": [
    "\n",
    "\"\"\"One hot encoding is going to perform inside imputation function so we need \"\"\"\n",
    "\n",
    "# getting last index of training data\n",
    "lenth_predictor_cols = len(predictor_cols)\n",
    "#for performing one hot encoding we combine all data\n",
    "all_data = predictor_cols.append(predictor_cols_test, ignore_index=True)\n",
    "\n",
    "all_data = imputation(all_data)\n",
    "\n"
   ]
  },
  {
   "cell_type": "markdown",
   "metadata": {
    "ExecuteTime": {
     "end_time": "2019-02-02T01:52:14.946706Z",
     "start_time": "2019-02-02T01:52:14.906500Z"
    },
    "colab_type": "text",
    "id": "xg0Txtl4ylpI"
   },
   "source": [
    "### after imputation graphs"
   ]
  },
  {
   "cell_type": "code",
   "execution_count": 50,
   "metadata": {
    "ExecuteTime": {
     "end_time": "2019-02-02T01:52:14.946706Z",
     "start_time": "2019-02-02T01:52:14.906500Z"
    },
    "colab": {
     "base_uri": "https://localhost:8080/",
     "height": 440
    },
    "colab_type": "code",
    "id": "xzaFutJnylpJ",
    "outputId": "8f64c399-fd8c-460a-8744-7313e4043dc7"
   },
   "outputs": [
    {
     "data": {
      "text/plain": [
       "<matplotlib.axes._subplots.AxesSubplot at 0x7f86e4749b38>"
      ]
     },
     "execution_count": 50,
     "metadata": {},
     "output_type": "execute_result"
    },
    {
     "data": {
      "image/png": "[encoded data removed]",
      "text/plain": [
       "<Figure size 432x288 with 1 Axes>"
      ]
     },
     "metadata": {
      "needs_background": "light"
     },
     "output_type": "display_data"
    }
   ],
   "source": [
    "pd.DataFrame(all_data).isnull().sum().plot.bar(title = \"after imputation\")"
   ]
  },
  {
   "cell_type": "markdown",
   "metadata": {
    "colab_type": "text",
    "id": "lg_J06Hc3A56"
   },
   "source": [
    "## Skewness Check"
   ]
  },
  {
   "cell_type": "markdown",
   "metadata": {
    "colab_type": "text",
    "id": "KKKT6d3Q3A58"
   },
   "source": [
    "### skewness train set"
   ]
  },
  {
   "cell_type": "code",
   "execution_count": 51,
   "metadata": {
    "colab_type": "text",
    "id": "17DYmbDz3A59"
   },
   "outputs": [],
   "source": [
    "# from scipy.stats import kurtosis, skew\n",
    "\n",
    "# skewness = all_data.skew(axis=0 , skipna =True)\n",
    "# pd.DataFrame(skewness).plot.bar(title = \"skewness\")\n",
    "\n",
    "# print('target skew: ',train_target.skew())"
   ]
  },
  {
   "cell_type": "code",
   "execution_count": 52,
   "metadata": {
    "colab_type": "text",
    "id": "ZOUvRgh63A5-"
   },
   "outputs": [],
   "source": [
    "# skewness= abs(skewness)>0.5\n",
    "# skewed_col = skewness.index[skewness == True]\n",
    "\n",
    "\n",
    "# #x5_AllPub\n",
    "# col_name = all_data.columns\n",
    "# nor = normalize(all_data)\n",
    "# all_data = pd.DataFrame(nor,columns=col_name)\n",
    "\n",
    "# all_data[skewed_col] = np.log1p(all_data[skewed_col])\n"
   ]
  },
  {
   "cell_type": "code",
   "execution_count": 53,
   "metadata": {
    "colab_type": "text",
    "id": "Hgfe0Orn3A5-"
   },
   "outputs": [],
   "source": [
    "# skewness = all_data.skew(axis=0 , skipna =True)\n",
    "# pd.DataFrame(skewness).plot.bar(title = \"skewness\")"
   ]
  },
  {
   "cell_type": "markdown",
   "metadata": {
    "colab_type": "text",
    "id": "GzW8zYCTylpV"
   },
   "source": [
    "### Split Data for training and testing"
   ]
  },
  {
   "cell_type": "code",
   "execution_count": 54,
   "metadata": {
    "colab": {},
    "colab_type": "code",
    "id": "teoseuU53A6C"
   },
   "outputs": [],
   "source": [
    "# seperate the dataset again after performing one hot encoding\n",
    "# nd array works diffrently than pandas df.loc[] \n",
    "predictor_cols = all_data[:lenth_predictor_cols]\n",
    "predictor_cols_test = all_data[lenth_predictor_cols:]"
   ]
  },
  {
   "cell_type": "code",
   "execution_count": 55,
   "metadata": {
    "ExecuteTime": {
     "end_time": "2019-02-01T13:19:42.967733Z",
     "start_time": "2019-02-01T13:19:42.947190Z"
    },
    "colab": {},
    "colab_type": "code",
    "id": "Kf5BE2HSylpW"
   },
   "outputs": [],
   "source": [
    "X_train, X_test, y_train, y_test = train_test_split(predictor_cols, \n",
    "                                                    train_target,\n",
    "                                                    train_size=0.8, \n",
    "                                                    test_size=0.2, \n",
    "                                                    random_state=1)"
   ]
  },
  {
   "cell_type": "markdown",
   "metadata": {
    "colab_type": "text",
    "id": "CiAA3GL-ylpd",
    "toc-hr-collapsed": true
   },
   "source": [
    "# Model selection"
   ]
  },
  {
   "cell_type": "markdown",
   "metadata": {
    "colab_type": "text",
    "id": "5S0x2KG1ylpe"
   },
   "source": [
    "## Model selection"
   ]
  },
  {
   "cell_type": "markdown",
   "metadata": {
    "colab_type": "text",
    "id": "PZhcMZM3ylpf"
   },
   "source": [
    "### Linear Regression"
   ]
  },
  {
   "cell_type": "code",
   "execution_count": 56,
   "metadata": {
    "ExecuteTime": {
     "end_time": "2019-02-01T13:19:44.062379Z",
     "start_time": "2019-02-01T13:19:44.044391Z"
    },
    "colab": {
     "base_uri": "https://localhost:8080/",
     "height": 34
    },
    "colab_type": "code",
    "id": "QW84ycAVylph",
    "outputId": "ecdc62a6-3a8a-4bd3-f04d-dd33e2e353db"
   },
   "outputs": [
    {
     "data": {
      "image/jpeg": "[encoded data removed]",
      "text/plain": [
       "<IPython.core.display.Image object>"
      ]
     },
     "execution_count": 56,
     "metadata": {},
     "output_type": "execute_result"
    }
   ],
   "source": [
    "my_model = LinearRegression()\n",
    "Image(\"regression.jpg\")\n"
   ]
  },
  {
   "cell_type": "code",
   "execution_count": 57,
   "metadata": {
    "colab": {},
    "colab_type": "code",
    "id": "JfbCVujy3A6S"
   },
   "outputs": [],
   "source": [
    "from sklearn import svm\n",
    "my_model = svm.SVR(C=1.0,epsilon=0.01,gamma='auto')"
   ]
  },
  {
   "cell_type": "code",
   "execution_count": 58,
   "metadata": {
    "colab": {},
    "colab_type": "code",
    "id": "uxmnO4go3A6U"
   },
   "outputs": [],
   "source": [
    "from sklearn.naive_bayes import GaussianNB\n",
    "my_model = GaussianNB()"
   ]
  },
  {
   "cell_type": "code",
   "execution_count": 59,
   "metadata": {
    "colab": {},
    "colab_type": "code",
    "id": "uGXFGy_x3A6X"
   },
   "outputs": [],
   "source": [
    "from sklearn.neighbors import KNeighborsClassifier\n",
    "my_model = KNeighborsClassifier(n_neighbors=3)"
   ]
  },
  {
   "cell_type": "markdown",
   "metadata": {
    "colab_type": "text",
    "id": "69XRz7lNQnoK"
   },
   "source": [
    "### Random Forest Regressor"
   ]
  },
  {
   "cell_type": "code",
   "execution_count": 60,
   "metadata": {
    "colab": {},
    "colab_type": "code",
    "id": "zXVOMam9ylpm"
   },
   "outputs": [],
   "source": [
    "my_model = RandomForestRegressor()"
   ]
  },
  {
   "cell_type": "markdown",
   "metadata": {
    "colab_type": "text",
    "id": "EfLz5Bz5QwnA"
   },
   "source": [
    "### DecisionTree"
   ]
  },
  {
   "cell_type": "code",
   "execution_count": 61,
   "metadata": {
    "colab": {},
    "colab_type": "code",
    "id": "zJ2lnN6uPEiz"
   },
   "outputs": [],
   "source": [
    "from sklearn.tree import DecisionTreeRegressor\n",
    "my_model = DecisionTreeRegressor()"
   ]
  },
  {
   "cell_type": "markdown",
   "metadata": {
    "colab_type": "text",
    "id": "DBux9NncQ3iA"
   },
   "source": [
    "### Xgboost \n",
    "\n",
    "* for 2000, 0.15 =>\n",
    "mean absolute error:  14802.790788206335\n",
    "accuracy score:  0.9184459671731471\n",
    "\n",
    "* for 1000, 0.15 =>\n",
    "mean absolute error:  14738.404430650686\n",
    "accuracy score:  0.9185264791078522\n",
    "\n",
    "* for 500, 0.15 =>\n",
    "mean absolute error:  14709.338639768835\n",
    "accuracy score:  0.918560790678001\n",
    "* for 500, 0.05 =>\n",
    "mean absolute error:  13994.730268086472\n",
    "accuracy score:  0.9276053252581928\n",
    "* for 1500, 0.05 =>\n",
    "mean absolute error:  13527.634270654966\n",
    "accuracy score:  0.9320158574642144\n",
    "\n",
    "* for 1000, .05 =>\n",
    "mean absolute error:  13607.276487585616\n",
    "accuracy score:  0.932101661947708\n",
    "\n",
    "* for 3000, .05 =>\n",
    "mean absolute error:  13605.092010916096\n",
    "accuracy score:  0.9322736091885926"
   ]
  },
  {
   "cell_type": "code",
   "execution_count": 22,
   "metadata": {
    "colab": {},
    "colab_type": "code",
    "id": "yV-rRWJsQJor"
   },
   "outputs": [],
   "source": [
    "from xgboost import XGBRegressor\n",
    "my_model = XGBRegressor(n_estimators=1000, learning_rate=0.05)\n",
    "\n",
    "\n",
    "Image(\"xgboost.jpg\")"
   ]
  },
  {
   "cell_type": "markdown",
   "metadata": {
    "colab_type": "text",
    "id": "1yJvazyIylpp"
   },
   "source": [
    "## Model fit on training set"
   ]
  },
  {
   "cell_type": "code",
   "execution_count": 23,
   "metadata": {
    "ExecuteTime": {
     "end_time": "2019-02-01T13:19:44.676360Z",
     "start_time": "2019-02-01T13:19:44.653805Z"
    },
    "colab": {},
    "colab_type": "code",
    "id": "holX3F9Zylpq"
   },
   "outputs": [],
   "source": [
    "# my_model.fit(X_train, y_train)\n",
    "# prediction = my_model.predict(X_test)"
   ]
  },
  {
   "cell_type": "markdown",
   "metadata": {
    "colab_type": "text",
    "id": "7v6dVbXdylpr"
   },
   "source": [
    "## Model fit for test set"
   ]
  },
  {
   "cell_type": "markdown",
   "metadata": {
    "colab_type": "text",
    "id": "ecVIRK-j3A6q"
   },
   "source": [
    "# ANN"
   ]
  },
  {
   "cell_type": "code",
   "execution_count": 35,
   "metadata": {
    "colab": {},
    "colab_type": "code",
    "id": "2zZqsB7a3A6r"
   },
   "outputs": [],
   "source": [
    "\n",
    "# Parameters\n",
    "learning_rate = 0.1\n",
    "# num_steps = 500\n",
    "\n",
    "hidden_1 = 16\n",
    "hidden_2 = 8\n",
    "hidden_3 = 4\n",
    "\n",
    "input_dim = X_train.shape[1]  # Number of features\n",
    "output_dim = 1              # Because it is a regression problem\n",
    "#tf graph input\n",
    "X_tf = tf.placeholder(\"float\" )\n",
    "y_tf = tf.placeholder(\"float\" )"
   ]
  },
  {
   "cell_type": "code",
   "execution_count": 36,
   "metadata": {
    "colab": {},
    "colab_type": "code",
    "id": "5QtkCbYy3A6t"
   },
   "outputs": [],
   "source": [
    "\n",
    "weights = {\n",
    "    'w1': tf.Variable(tf.random_normal([input_dim, hidden_1])),\n",
    "    'w2': tf.Variable(tf.random_normal([hidden_1, hidden_2])),\n",
    "    'w3': tf.Variable(tf.random_normal([hidden_2, hidden_3])),\n",
    "    'out': tf.Variable(tf.random_normal([hidden_3, output_dim]))\n",
    "}\n",
    "biases = {\n",
    "    'b1': tf.Variable(tf.random_normal([hidden_1])),\n",
    "    'b2': tf.Variable(tf.random_normal([hidden_2])),\n",
    "    'b3': tf.Variable(tf.random_normal([hidden_3])),\n",
    "    'out': tf.Variable(tf.random_normal([output_dim]))\n",
    "}"
   ]
  },
  {
   "cell_type": "code",
   "execution_count": 37,
   "metadata": {
    "colab": {},
    "colab_type": "code",
    "id": "bYliULZ53A6w"
   },
   "outputs": [],
   "source": [
    "# Model Design\n",
    "\n",
    "def ann_model(X_val):\n",
    "  # Hidden layers\n",
    "  layer_1 = tf.add(tf.matmul(X_val, weights['w1']), biases['b1'])\n",
    "  layer_1 = tf.nn.relu(layer_1)\n",
    "  \n",
    "  layer_2 = tf.add(tf.matmul(layer_1, weights['w2']), biases['b2'])\n",
    "  layer_2 = tf.nn.relu(layer_2)\n",
    "  \n",
    "  layer_3 = tf.add(tf.matmul(layer_2, weights['w3']), biases['b3'])\n",
    "  layer_3 = tf.nn.relu(layer_3)\n",
    "  \n",
    "  # Output layer\n",
    "  layer_out = tf.add(tf.matmul(layer_3, weights['out']), biases['out'])\n",
    "  \n",
    "  return layer_out"
   ]
  },
  {
   "cell_type": "code",
   "execution_count": null,
   "metadata": {
    "colab": {},
    "colab_type": "code",
    "id": "8uJm49ThfLnF"
   },
   "outputs": [],
   "source": []
  },
  {
   "cell_type": "code",
   "execution_count": 38,
   "metadata": {
    "colab": {},
    "colab_type": "code",
    "id": "KWv7rwAG3A6y"
   },
   "outputs": [],
   "source": [
    "\n",
    "\n",
    "# Model Construct\n",
    "model = ann_model(X_tf)\n",
    "\n",
    "# Mean Squared Error cost function\n",
    "cost = tf.reduce_mean(tf.square(y_tf - model))\n",
    "\n",
    "\n",
    "# Adam optimizer will update weights and biases after each step\n",
    "optimizer = tf.train.RMSPropOptimizer(learning_rate=learning_rate).minimize(cost)\n",
    "\n",
    "# Evaluate model (with test logits, for dropout to be disabled)\n",
    "# correct_pred = tf.equal(tf.argmax(model, 1), tf.argmax(y_tf, 1))\n",
    "# accuracy = tf.reduce_mean(tf.cast(correct_pred, tf.float32))\n",
    "\n",
    "# Initialize variables \n",
    "init = tf.global_variables_initializer()\n",
    "\n",
    "# Add ops to save and restore all the variables.\n",
    "saver = tf.train.Saver()"
   ]
  },
  {
   "cell_type": "code",
   "execution_count": 39,
   "metadata": {
    "colab": {
     "base_uri": "https://localhost:8080/",
     "height": 5168
    },
    "colab_type": "code",
    "id": "snZLOw-C3A60",
    "outputId": "59f72e65-6cd2-4d97-88ee-a94209209c41"
   },
   "outputs": [
    {
     "name": "stdout",
     "output_type": "stream",
     "text": [
      "batch no :  100\n",
      "batch no :  200\n",
      "batch no :  300\n",
      "batch no :  400\n",
      "batch no :  500\n",
      "batch no :  600\n",
      "batch no :  700\n",
      "batch no :  800\n",
      "batch no :  900\n",
      "batch no :  1000\n",
      "batch no :  1100\n",
      "batch no :  1200\n",
      "batch no :  1300\n",
      "batch no :  1400\n",
      "batch no :  1500\n",
      "batch no :  1600\n",
      "batch no :  1700\n",
      "batch no :  1800\n",
      "batch no :  1900\n",
      "batch no :  2000\n",
      "batch no :  2100\n",
      "batch no :  2200\n",
      "batch no :  2300\n",
      "batch no :  2400\n",
      "batch no :  2500\n",
      "batch no :  2600\n",
      "batch no :  2700\n",
      "batch no :  2800\n",
      "batch no :  2900\n",
      "batch no :  3000\n",
      "batch no :  3100\n",
      "batch no :  3200\n",
      "batch no :  3300\n",
      "batch no :  3400\n",
      "batch no :  3500\n",
      "batch no :  3600\n",
      "batch no :  3700\n",
      "batch no :  3800\n",
      "batch no :  3900\n",
      "batch no :  4000\n",
      "batch no :  4100\n",
      "batch no :  4200\n",
      "batch no :  4300\n",
      "batch no :  4400\n",
      "batch no :  4500\n",
      "batch no :  4600\n",
      "batch no :  4700\n",
      "batch no :  4800\n",
      "batch no :  4900\n",
      "batch no :  5000\n",
      "batch no :  5100\n",
      "batch no :  5200\n",
      "batch no :  5300\n",
      "batch no :  5400\n",
      "batch no :  5500\n",
      "batch no :  5600\n",
      "batch no :  5700\n",
      "batch no :  5800\n",
      "batch no :  5900\n",
      "batch no :  6000\n",
      "batch no :  6100\n",
      "batch no :  6200\n",
      "batch no :  6300\n",
      "batch no :  6400\n",
      "batch no :  6500\n",
      "batch no :  6600\n",
      "batch no :  6700\n",
      "batch no :  6800\n",
      "batch no :  6900\n",
      "batch no :  7000\n",
      "Model saved in path: /tmp/model.ckpt\n",
      "mean absolute error:  56970.11542166096\n",
      "accuracy score:  -0.06458594653195826\n"
     ]
    }
   ],
   "source": [
    "\n",
    "with tf.Session() as sess:\n",
    "    #running initializer\n",
    "    sess.run(init)\n",
    "    for i in range(7000):\n",
    "        sess.run(optimizer, feed_dict={X_tf:X_train, y_tf:y_train})\n",
    "        if (i+1)%100 == 0:\n",
    "            print(\"batch no : \",i+1)\n",
    "            \n",
    "    # Save the variables to disk.\n",
    "    save_path = saver.save(sess, \"/tmp/model.ckpt\")\n",
    "    print(\"Model saved in path: %s\" % save_path)\n",
    "    \n",
    "    pred = sess.run(model, feed_dict={X_tf: X_test})\n",
    "    prediction = pred.squeeze()\n",
    "#     print()\n",
    "#     print(pred)\n",
    "    \n",
    "#   pred = np.expm1(pred)\n",
    "#   print(pred)\n",
    "\n",
    "print('mean absolute error: ',mean_absolute_error(y_test.values, prediction))\n",
    "print('accuracy score: ',  r2_score(np.array(y_test),prediction) )\n"
   ]
  },
  {
   "cell_type": "code",
   "execution_count": 40,
   "metadata": {},
   "outputs": [
    {
     "name": "stdout",
     "output_type": "stream",
     "text": [
      "INFO:tensorflow:Restoring parameters from /tmp/model.ckpt\n",
      "Model restored.\n",
      "[158006.39 153905.58 158202.62 ... 156353.73 160101.66 158691.17]\n"
     ]
    }
   ],
   "source": [
    "with tf.Session() as sess:\n",
    "    # Restore variables from disk.\n",
    "    saver.restore(sess, \"/tmp/model.ckpt\")\n",
    "    print(\"Model restored.\")\n",
    "    \n",
    "    # Check the values of the variables\n",
    "    pred =  sess.run(model, feed_dict={X_tf: predictor_cols_test})\n",
    "    prediction = pred.squeeze()\n",
    "    print(prediction)"
   ]
  },
  {
   "cell_type": "code",
   "execution_count": 30,
   "metadata": {},
   "outputs": [],
   "source": [
    "# with tf.Session() as sess:\n",
    "\n",
    "#     # Run the initializer\n",
    "#     sess.run(init)\n",
    "\n",
    "#     for step in range(num_steps):\n",
    "#         batch_x, batch_y = mnist.train.next_batch(batch_size)\n",
    "#         # Run optimization op (backprop)\n",
    "#         sess.run(optimizer, feed_dict={X: batch_x, Y: batch_y})\n",
    "#         if step % display_step == 0 or step == 1:\n",
    "#             # Calculate batch loss and accuracy\n",
    "#             loss, acc = sess.run([loss_op, accuracy], feed_dict={X: batch_x,\n",
    "#                                                                  Y: batch_y})\n",
    "#             print(\"Step \" + str(step) + \", Minibatch Loss= \" + \\\n",
    "#                   \"{:.4f}\".format(loss) + \", Training Accuracy= \" + \\\n",
    "#                   \"{:.3f}\".format(acc))\n",
    "\n",
    "#     print(\"Optimization Finished!\")\n",
    "\n",
    "#     # Calculate accuracy for MNIST test images\n",
    "#     print(\"Testing Accuracy:\", \\\n",
    "#         sess.run(accuracy, feed_dict={X: mnist.test.images,\n",
    "#                                       Y: mnist.test.labels}))"
   ]
  },
  {
   "cell_type": "code",
   "execution_count": 31,
   "metadata": {
    "colab_type": "text",
    "id": "5mkHTERl3A66"
   },
   "outputs": [],
   "source": [
    "# prediction = my_model.predict(X_test)\n"
   ]
  },
  {
   "cell_type": "code",
   "execution_count": 32,
   "metadata": {
    "ExecuteTime": {
     "end_time": "2019-02-01T13:19:46.673795Z",
     "start_time": "2019-02-01T13:19:46.652902Z"
    },
    "colab": {
     "base_uri": "https://localhost:8080/",
     "height": 1071
    },
    "colab_type": "code",
    "id": "0jbA0AnNylpt",
    "outputId": "1e31738c-8351-4425-ebb3-74bf9a562df1"
   },
   "outputs": [],
   "source": [
    "# prediction_test = my_model.predict(predictor_cols_test)"
   ]
  },
  {
   "cell_type": "markdown",
   "metadata": {
    "colab_type": "text",
    "id": "yNPxsbXTylpu"
   },
   "source": [
    "# Acuracy Score"
   ]
  },
  {
   "cell_type": "code",
   "execution_count": 33,
   "metadata": {
    "ExecuteTime": {
     "end_time": "2019-02-01T12:58:48.745443Z",
     "start_time": "2019-02-01T12:58:48.726659Z"
    },
    "colab": {
     "base_uri": "https://localhost:8080/",
     "height": 197
    },
    "colab_type": "code",
    "id": "b5Sow6Snylpv",
    "outputId": "7be45a85-3c42-43a6-87ed-ea236bd74486"
   },
   "outputs": [
    {
     "ename": "ValueError",
     "evalue": "Found input variables with inconsistent numbers of samples: [292, 1459]",
     "output_type": "error",
     "traceback": [
      "\u001b[0;31m---------------------------------------------------------------------------\u001b[0m",
      "\u001b[0;31mValueError\u001b[0m                                Traceback (most recent call last)",
      "\u001b[0;32m<ipython-input-33-314dafb66b5b>\u001b[0m in \u001b[0;36m<module>\u001b[0;34m\u001b[0m\n\u001b[1;32m      2\u001b[0m \u001b[0;31m# print('accuracy score: ', my_model.score(X_test,y_test))\u001b[0m\u001b[0;34m\u001b[0m\u001b[0;34m\u001b[0m\u001b[0;34m\u001b[0m\u001b[0m\n\u001b[1;32m      3\u001b[0m \u001b[0;34m\u001b[0m\u001b[0m\n\u001b[0;32m----> 4\u001b[0;31m \u001b[0mprint\u001b[0m\u001b[0;34m(\u001b[0m\u001b[0;34m'mean absolute error: '\u001b[0m\u001b[0;34m,\u001b[0m\u001b[0mmean_absolute_error\u001b[0m\u001b[0;34m(\u001b[0m\u001b[0my_test\u001b[0m\u001b[0;34m,\u001b[0m \u001b[0mprediction\u001b[0m\u001b[0;34m)\u001b[0m\u001b[0;34m)\u001b[0m\u001b[0;34m\u001b[0m\u001b[0;34m\u001b[0m\u001b[0m\n\u001b[0m\u001b[1;32m      5\u001b[0m \u001b[0mprint\u001b[0m\u001b[0;34m(\u001b[0m\u001b[0;34m'accuracy score: '\u001b[0m\u001b[0;34m,\u001b[0m \u001b[0maccuracy_score\u001b[0m\u001b[0;34m(\u001b[0m\u001b[0mX_test\u001b[0m\u001b[0;34m,\u001b[0m\u001b[0my_test\u001b[0m\u001b[0;34m)\u001b[0m\u001b[0;34m)\u001b[0m\u001b[0;34m\u001b[0m\u001b[0;34m\u001b[0m\u001b[0m\n",
      "\u001b[0;32m~/anaconda3/envs/tf/lib/python3.6/site-packages/sklearn/metrics/regression.py\u001b[0m in \u001b[0;36mmean_absolute_error\u001b[0;34m(y_true, y_pred, sample_weight, multioutput)\u001b[0m\n\u001b[1;32m    168\u001b[0m     \"\"\"\n\u001b[1;32m    169\u001b[0m     y_type, y_true, y_pred, multioutput = _check_reg_targets(\n\u001b[0;32m--> 170\u001b[0;31m         y_true, y_pred, multioutput)\n\u001b[0m\u001b[1;32m    171\u001b[0m     \u001b[0mcheck_consistent_length\u001b[0m\u001b[0;34m(\u001b[0m\u001b[0my_true\u001b[0m\u001b[0;34m,\u001b[0m \u001b[0my_pred\u001b[0m\u001b[0;34m,\u001b[0m \u001b[0msample_weight\u001b[0m\u001b[0;34m)\u001b[0m\u001b[0;34m\u001b[0m\u001b[0;34m\u001b[0m\u001b[0m\n\u001b[1;32m    172\u001b[0m     output_errors = np.average(np.abs(y_pred - y_true),\n",
      "\u001b[0;32m~/anaconda3/envs/tf/lib/python3.6/site-packages/sklearn/metrics/regression.py\u001b[0m in \u001b[0;36m_check_reg_targets\u001b[0;34m(y_true, y_pred, multioutput)\u001b[0m\n\u001b[1;32m     73\u001b[0m \u001b[0;34m\u001b[0m\u001b[0m\n\u001b[1;32m     74\u001b[0m     \"\"\"\n\u001b[0;32m---> 75\u001b[0;31m     \u001b[0mcheck_consistent_length\u001b[0m\u001b[0;34m(\u001b[0m\u001b[0my_true\u001b[0m\u001b[0;34m,\u001b[0m \u001b[0my_pred\u001b[0m\u001b[0;34m)\u001b[0m\u001b[0;34m\u001b[0m\u001b[0;34m\u001b[0m\u001b[0m\n\u001b[0m\u001b[1;32m     76\u001b[0m     \u001b[0my_true\u001b[0m \u001b[0;34m=\u001b[0m \u001b[0mcheck_array\u001b[0m\u001b[0;34m(\u001b[0m\u001b[0my_true\u001b[0m\u001b[0;34m,\u001b[0m \u001b[0mensure_2d\u001b[0m\u001b[0;34m=\u001b[0m\u001b[0;32mFalse\u001b[0m\u001b[0;34m)\u001b[0m\u001b[0;34m\u001b[0m\u001b[0;34m\u001b[0m\u001b[0m\n\u001b[1;32m     77\u001b[0m     \u001b[0my_pred\u001b[0m \u001b[0;34m=\u001b[0m \u001b[0mcheck_array\u001b[0m\u001b[0;34m(\u001b[0m\u001b[0my_pred\u001b[0m\u001b[0;34m,\u001b[0m \u001b[0mensure_2d\u001b[0m\u001b[0;34m=\u001b[0m\u001b[0;32mFalse\u001b[0m\u001b[0;34m)\u001b[0m\u001b[0;34m\u001b[0m\u001b[0;34m\u001b[0m\u001b[0m\n",
      "\u001b[0;32m~/anaconda3/envs/tf/lib/python3.6/site-packages/sklearn/utils/validation.py\u001b[0m in \u001b[0;36mcheck_consistent_length\u001b[0;34m(*arrays)\u001b[0m\n\u001b[1;32m    233\u001b[0m     \u001b[0;32mif\u001b[0m \u001b[0mlen\u001b[0m\u001b[0;34m(\u001b[0m\u001b[0muniques\u001b[0m\u001b[0;34m)\u001b[0m \u001b[0;34m>\u001b[0m \u001b[0;36m1\u001b[0m\u001b[0;34m:\u001b[0m\u001b[0;34m\u001b[0m\u001b[0;34m\u001b[0m\u001b[0m\n\u001b[1;32m    234\u001b[0m         raise ValueError(\"Found input variables with inconsistent numbers of\"\n\u001b[0;32m--> 235\u001b[0;31m                          \" samples: %r\" % [int(l) for l in lengths])\n\u001b[0m\u001b[1;32m    236\u001b[0m \u001b[0;34m\u001b[0m\u001b[0m\n\u001b[1;32m    237\u001b[0m \u001b[0;34m\u001b[0m\u001b[0m\n",
      "\u001b[0;31mValueError\u001b[0m: Found input variables with inconsistent numbers of samples: [292, 1459]"
     ]
    }
   ],
   "source": [
    "# print('mean absolute error: ',mean_absolute_error(y_test, prediction))\n",
    "# print('accuracy score: ', my_model.score(X_test,y_test))\n",
    "\n",
    "print('mean absolute error: ',mean_absolute_error(y_test, prediction))\n",
    "print('accuracy score: ', accuracy_score(X_test,y_test))\n"
   ]
  },
  {
   "cell_type": "markdown",
   "metadata": {
    "_cell_guid": "677b20af-bc56-4db1-aac3-1010389367ba",
    "_uuid": "c5294634157ca8c52d35c999ee949023b9544ee1",
    "colab_type": "text",
    "id": "XJzQEa-8ylpy"
   },
   "source": [
    "In addition to your training data, there will be test data. This is frequently stored in a file with the title `test.csv`. This data won't include a column with your target (y), because that is what we'll have to predict and submit.  Here is sample code to do that. "
   ]
  },
  {
   "cell_type": "markdown",
   "metadata": {
    "_cell_guid": "258e450a-d82c-4a7f-af22-cc695f74b4e3",
    "_uuid": "49e253dc359af831d8e248979b90c70dfcbef99a",
    "colab_type": "text",
    "id": "h25ICHGHylpy",
    "toc-hr-collapsed": true
   },
   "source": [
    "# Prepare Submission File"
   ]
  },
  {
   "cell_type": "code",
   "execution_count": 34,
   "metadata": {
    "ExecuteTime": {
     "end_time": "2019-02-01T12:58:49.764355Z",
     "start_time": "2019-02-01T12:58:49.742150Z"
    },
    "_cell_guid": "092f5aed-0de4-4295-80ee-c193c8b84edd",
    "_uuid": "da5946c5fbc32fdb537788cd6ad5da1d6d698ae6",
    "colab": {},
    "colab_type": "code",
    "id": "dy9JuTj4ylp0"
   },
   "outputs": [],
   "source": [
    "\n",
    "my_submission = pd.DataFrame({'Id': test.Id, 'SalePrice': prediction})\n",
    "# you could use any filename. We choose submission here\n",
    "my_submission.to_csv('submission.csv', index=False)"
   ]
  },
  {
   "cell_type": "code",
   "execution_count": null,
   "metadata": {
    "colab": {},
    "colab_type": "code",
    "id": "mmtCsjHC3A7H"
   },
   "outputs": [],
   "source": []
  },
  {
   "cell_type": "code",
   "execution_count": null,
   "metadata": {
    "colab": {},
    "colab_type": "code",
    "id": "nH98DHou3A7J"
   },
   "outputs": [],
   "source": []
  }
 ],
 "metadata": {
  "accelerator": "GPU",
  "colab": {
   "collapsed_sections": [],
   "name": "house_price.ipynb",
   "provenance": [],
   "version": "0.3.2"
  },
  "kernelspec": {
   "display_name": "Python 3",
   "language": "python",
   "name": "python3"
  },
  "language_info": {
   "codemirror_mode": {
    "name": "ipython",
    "version": 3
   },
   "file_extension": ".py",
   "mimetype": "text/x-python",
   "name": "python",
   "nbconvert_exporter": "python",
   "pygments_lexer": "ipython3",
   "version": "3.6.8"
  }
 },
 "nbformat": 4,
 "nbformat_minor": 2
}
